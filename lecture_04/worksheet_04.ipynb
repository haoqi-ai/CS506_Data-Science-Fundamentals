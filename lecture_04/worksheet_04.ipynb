{
 "cells": [
  {
   "attachments": {},
   "cell_type": "markdown",
   "metadata": {},
   "source": [
    "# Worksheet 04\n",
    "\n",
    "Name:  Hao Qi  \n",
    "UID:  U96305250  \n",
    "\n",
    "### Topics\n",
    "\n",
    "- Distance & Similarity"
   ]
  },
  {
   "cell_type": "markdown",
   "metadata": {},
   "source": [
    "### Distance & Similarity\n",
    "\n",
    "#### Part 1\n",
    "\n",
    "a) In the Minkowski Distance, describe what the parameters p and d are."
   ]
  },
  {
   "cell_type": "markdown",
   "metadata": {},
   "source": [
    "- **p** determines the type of distance calculation. For p=1, it yields the Manhattan distance; for p=2, it yields the Euclidean distance; and for the other values of p, it defines different forms of distance between points in a vector space. \n",
    "- **d** represents the dimensionality of data points (i.e., the number of features) to be compared. It refers to the number of coordinates in a vector space. The calculation of the Minkowski distance involves summing up the absolute differences raised to the power of p across all these dimensions and taking the root. "
   ]
  },
  {
   "cell_type": "markdown",
   "metadata": {},
   "source": [
    "b) In your own words describe the difference between the Euclidean distance and the Manhattan distance."
   ]
  },
  {
   "cell_type": "markdown",
   "metadata": {},
   "source": [
    "Euclidean measures the shortest straight-line distance between two points. It is calculated at p=2 by taking the root of the sum of the squared differences between corresponding coordinates. On the other hand, Manhattan calculates the distance at p=1 by summing up the absolute values of the differences, assuming one can only move along the orthogonal paths on a map. "
   ]
  },
  {
   "attachments": {},
   "cell_type": "markdown",
   "metadata": {},
   "source": [
    "Consider A = (0, 0) and B = (1, 1). When:\n",
    "\n",
    "- p = 1, d(A, B) = 2\n",
    "- p = 2, d(A, B) = $\\sqrt{2} = 1.41$\n",
    "- p = 3, d(A, B) = $2^{1/3} = 1.26$\n",
    "- p = 4, d(A, B) = $2^{1/4} = 1.19$\n",
    "\n",
    "c) Describe what you think the distance would look like when p is very large."
   ]
  },
  {
   "cell_type": "markdown",
   "metadata": {},
   "source": [
    "The distance is getting smaller and approaching the maximum absolute difference along any coordinate dimension, which is 1 here. "
   ]
  },
  {
   "cell_type": "markdown",
   "metadata": {},
   "source": [
    "d) Is the Minkowski Distance still a distance function when p < 1? Expain why / why not."
   ]
  },
  {
   "cell_type": "markdown",
   "metadata": {},
   "source": [
    "No. Because the function no longer satisfies the triangle inequality, which is one of the necessary conditions for it to be considered a distance. There is an example on the slides from Page 29 to Page 33. "
   ]
  },
  {
   "cell_type": "markdown",
   "metadata": {},
   "source": [
    "e) When would you use the Cosine Similarity over the Euclidean Distance?"
   ]
  },
  {
   "cell_type": "markdown",
   "metadata": {},
   "source": [
    "It is preferred when the orientation of data points is more important than their magnitude or absolute positions. This is particularly relevant in contexts like text analysis or information retrieval, where the similarity between documents or vectors is based on their angle instead of their length. "
   ]
  },
  {
   "cell_type": "markdown",
   "metadata": {},
   "source": [
    "f) What does the Jaccard Distance account for that the Manhattan Distance doesn't?"
   ]
  },
  {
   "cell_type": "markdown",
   "metadata": {},
   "source": [
    "Jaccard measures how similar two sets are based on the overlap of their intersection and union, while Manhattan sums the absolute differences between points. As a result, Jaccard helps alleviate the interference of set size in measuring differences with elements and helps compare the similarity between sets, such as documents, where the focus is on the presence or absence of features rather than their magnitude. "
   ]
  },
  {
   "attachments": {},
   "cell_type": "markdown",
   "metadata": {},
   "source": [
    "#### Part 2\n",
    "\n",
    "Consider the following two sentences:"
   ]
  },
  {
   "cell_type": "code",
   "execution_count": 1,
   "metadata": {},
   "outputs": [],
   "source": [
    "s1 = \"hello my name is Alice\"  \n",
    "s2 = \"hello my name is Bob\""
   ]
  },
  {
   "cell_type": "markdown",
   "metadata": {},
   "source": [
    "Using the union of words from both sentences, we can represent each sentence as a vector. Each element of the vector represents the presence or absence of the word at that index.\n",
    "\n",
    "In this example, the union of words is (\"hello\", \"my\", \"name\", \"is\", \"Alice\", \"Bob\") so we can represent the above sentences as such:"
   ]
  },
  {
   "cell_type": "code",
   "execution_count": 2,
   "metadata": {},
   "outputs": [],
   "source": [
    "v1 = [1,    1, 1,   1, 1,    0]\n",
    "#     hello my name is Alice\n",
    "v2 = [1,    1, 1,   1, 0, 1]\n",
    "#     hello my name is    Bob"
   ]
  },
  {
   "attachments": {},
   "cell_type": "markdown",
   "metadata": {},
   "source": [
    "Programmatically, we can do the following:"
   ]
  },
  {
   "cell_type": "code",
   "execution_count": 3,
   "metadata": {},
   "outputs": [
    {
     "name": "stdout",
     "output_type": "stream",
     "text": [
      "['hello', 'name', 'is', 'Alice', 'Bob', 'my']\n",
      "[1, 1, 1, 1, 0, 1]\n"
     ]
    }
   ],
   "source": [
    "corpus = [s1, s2]\n",
    "all_words = list(set([item for x in corpus for item in x.split()]))\n",
    "print(all_words)\n",
    "v1 = [1 if x in s1 else 0 for x in all_words]\n",
    "print(v1)"
   ]
  },
  {
   "cell_type": "markdown",
   "metadata": {},
   "source": [
    "Let's add a new sentence to our corpus:"
   ]
  },
  {
   "cell_type": "code",
   "execution_count": 4,
   "metadata": {},
   "outputs": [],
   "source": [
    "s3 = \"hi my name is Claude\"\n",
    "corpus.append(s3)"
   ]
  },
  {
   "cell_type": "markdown",
   "metadata": {},
   "source": [
    "a) What is the new union of words used to represent s1, s2, and s3?"
   ]
  },
  {
   "cell_type": "code",
   "execution_count": 5,
   "metadata": {},
   "outputs": [
    {
     "name": "stdout",
     "output_type": "stream",
     "text": [
      "['hello', 'name', 'is', 'Alice', 'Bob', 'Claude', 'my', 'hi']\n"
     ]
    }
   ],
   "source": [
    "new_all_words = list(set([item for x in corpus for item in x.split()]))  # new union\n",
    "print(new_all_words) "
   ]
  },
  {
   "attachments": {},
   "cell_type": "markdown",
   "metadata": {},
   "source": [
    "b) Represent s1, s2, and s3 as vectors as above, using this new set of words."
   ]
  },
  {
   "cell_type": "code",
   "execution_count": 6,
   "metadata": {},
   "outputs": [
    {
     "name": "stdout",
     "output_type": "stream",
     "text": [
      "[1, 1, 1, 1, 0, 0, 1, 0]\n",
      "[1, 1, 1, 0, 1, 0, 1, 0]\n",
      "[0, 1, 1, 0, 0, 1, 1, 1]\n"
     ]
    }
   ],
   "source": [
    "new_v1 = [1 if x in s1 else 0 for x in new_all_words]\n",
    "new_v2 = [1 if x in s2 else 0 for x in new_all_words]\n",
    "new_v3 = [1 if x in s3 else 0 for x in new_all_words]\n",
    "print(new_v1)\n",
    "print(new_v2)\n",
    "print(new_v3)"
   ]
  },
  {
   "cell_type": "markdown",
   "metadata": {},
   "source": [
    "c) Write a function that computes the manhattan distance between two vectors. Which pair of vectors are the most similar under that distance function?"
   ]
  },
  {
   "cell_type": "code",
   "execution_count": 8,
   "metadata": {},
   "outputs": [
    {
     "name": "stdout",
     "output_type": "stream",
     "text": [
      "vec1 and vec2: 2.0\n",
      "vec1 and vec3: 4.0\n",
      "vec2 and vec3: 4.0\n",
      "(1, 2) has the smallest distance, which is 2.0. \n"
     ]
    }
   ],
   "source": [
    "def minkowski(x, y, p):\n",
    "    if len(x) != len(y):\n",
    "        raise RuntimeError(\"x and y should have the same dimension!\")\n",
    "    \n",
    "    res = 0\n",
    "    for i in range(len(x)):\n",
    "        res += abs(x[i] - y[i]) ** p\n",
    "    return res ** (1 / p)\n",
    "\n",
    "def manhattan(x, y):\n",
    "    return minkowski(x, y, 1)\n",
    "\n",
    "\n",
    "vectors = [new_v1, new_v2, new_v3]\n",
    "similar_pair = None\n",
    "min_distance = float('inf')\n",
    "\n",
    "for i in range(len(vectors)):\n",
    "    for j in range(i+1, len(vectors)):\n",
    "        distance = manhattan(vectors[i], vectors[j])\n",
    "        print(\"vec{} and vec{}: {}\".format(i+1, j+1, distance))\n",
    "        if distance < min_distance:\n",
    "            min_distance = distance\n",
    "            similar_pair = (i+1, j+1)\n",
    "\n",
    "print(\"{} has the smallest distance, which is {}. \".format(similar_pair, min_distance))"
   ]
  },
  {
   "cell_type": "markdown",
   "metadata": {},
   "source": [
    "Vector 1 and Vector 2 are the most similar under the manhattan distance. "
   ]
  },
  {
   "cell_type": "markdown",
   "metadata": {},
   "source": [
    "d) Create a matrix of all these vectors (row-major) and add the following sentences:\n",
    "\n",
    "- \"hi Alice\"\n",
    "- \"hello Claude\"\n",
    "- \"Bob my name is Claude\"\n",
    "- \"hi Claude my name is Alice\"\n",
    "- \"hello Bob\""
   ]
  },
  {
   "cell_type": "code",
   "execution_count": 11,
   "metadata": {},
   "outputs": [
    {
     "name": "stdout",
     "output_type": "stream",
     "text": [
      "[1, 1, 1, 1, 0, 0, 1, 0]\n",
      "[1, 1, 1, 0, 1, 0, 1, 0]\n",
      "[0, 1, 1, 0, 0, 1, 1, 1]\n",
      "[0, 0, 0, 1, 0, 0, 0, 1]\n",
      "[1, 0, 0, 0, 0, 1, 0, 0]\n",
      "[0, 1, 1, 0, 1, 1, 1, 0]\n",
      "[0, 1, 1, 1, 0, 1, 1, 1]\n",
      "[1, 0, 0, 0, 1, 0, 0, 0]\n"
     ]
    }
   ],
   "source": [
    "matrix = [new_v1, new_v2, new_v3]\n",
    "\n",
    "new_corpus = [\"hi Alice\", \n",
    "          \"hello Claude\", \n",
    "          \"Bob my name is Claude\", \n",
    "          \"hi Claude my name is Alice\", \n",
    "          \"hello Bob\"]\n",
    "for i in range(len(new_corpus)):\n",
    "    new_vec = [1 if x in new_corpus[i] else 0 for x in new_all_words]\n",
    "    matrix.append(new_vec)\n",
    "\n",
    "for i in range(len(matrix)):\n",
    "    print(matrix[i])"
   ]
  },
  {
   "cell_type": "markdown",
   "metadata": {},
   "source": [
    "e) How many rows and columns does this matrix have?"
   ]
  },
  {
   "cell_type": "code",
   "execution_count": 12,
   "metadata": {},
   "outputs": [
    {
     "name": "stdout",
     "output_type": "stream",
     "text": [
      "The matrix has 8 rows and 8 columns. \n"
     ]
    }
   ],
   "source": [
    "print(\"The matrix has {} rows and {} columns. \".format(len(matrix), len(matrix[0])))"
   ]
  },
  {
   "attachments": {},
   "cell_type": "markdown",
   "metadata": {},
   "source": [
    "f) When using the Manhattan distance, which two sentences are the most similar?"
   ]
  },
  {
   "cell_type": "code",
   "execution_count": 14,
   "metadata": {},
   "outputs": [
    {
     "name": "stdout",
     "output_type": "stream",
     "text": [
      "sentence1 and sentence2: 2.0\n",
      "sentence1 and sentence3: 4.0\n",
      "sentence1 and sentence4: 5.0\n",
      "sentence1 and sentence5: 5.0\n",
      "sentence1 and sentence6: 4.0\n",
      "sentence1 and sentence7: 3.0\n",
      "sentence1 and sentence8: 5.0\n",
      "sentence2 and sentence3: 4.0\n",
      "sentence2 and sentence4: 7.0\n",
      "sentence2 and sentence5: 5.0\n",
      "sentence2 and sentence6: 2.0\n",
      "sentence2 and sentence7: 5.0\n",
      "sentence2 and sentence8: 3.0\n",
      "sentence3 and sentence4: 5.0\n",
      "sentence3 and sentence5: 5.0\n",
      "sentence3 and sentence6: 2.0\n",
      "sentence3 and sentence7: 1.0\n",
      "sentence3 and sentence8: 7.0\n",
      "sentence4 and sentence5: 4.0\n",
      "sentence4 and sentence6: 7.0\n",
      "sentence4 and sentence7: 4.0\n",
      "sentence4 and sentence8: 4.0\n",
      "sentence5 and sentence6: 5.0\n",
      "sentence5 and sentence7: 6.0\n",
      "sentence5 and sentence8: 2.0\n",
      "sentence6 and sentence7: 3.0\n",
      "sentence6 and sentence8: 5.0\n",
      "sentence7 and sentence8: 8.0\n",
      "Sentence 3 and Sentence 7 are the most similar with a distance of 1.0. \n"
     ]
    }
   ],
   "source": [
    "similar_pair = None\n",
    "min_distance = float('inf')\n",
    "\n",
    "for i in range(len(matrix)):\n",
    "    for j in range(i+1, len(matrix)):\n",
    "        distance = manhattan(matrix[i], matrix[j])\n",
    "        print(\"sentence{} and sentence{}: {}\".format(i+1, j+1, distance))\n",
    "        if distance < min_distance:\n",
    "            min_distance = distance\n",
    "            similar_pair = (i+1, j+1)\n",
    "\n",
    "print(\"Sentence {0[0]} and Sentence {0[1]} are the most similar with a distance of {1}. \".format(similar_pair, min_distance))"
   ]
  },
  {
   "cell_type": "markdown",
   "metadata": {},
   "source": [
    "#### Part 3 Challenge"
   ]
  },
  {
   "cell_type": "markdown",
   "metadata": {},
   "source": [
    "Given a set of graphs $\\mathcal{G}$, each graph $G \\in \\mathcal{G}$ is defined over the same set of nodes $V$. The graphs are represented by their adjacency matrices, which are 2D arrays where each element indicates whether a pair of nodes is connected by an edge.\n",
    "\n",
    "Your task is to compute the pairwise distances between these graphs based on a specific distance metric. The distance $d(G, G')$ between two graphs $G = (V, E)$ and $G' = (V, E')$ is defined as the sum of the number of edges in $G$ but not in $G'$, and the number of edges in $G'$ but not in $G$. Mathematically, this can be expressed as:\n",
    "\n",
    "$$\n",
    "d(G, G') = |E \\setminus E'| + |E' \\setminus E|.\n",
    "$$\n",
    "\n",
    "##### Requirements:\n",
    "1. **Input**: Should take a list of 2D numpy arrays as input. Each array represents the adjacency matrix of a graph.\n",
    "\n",
    "2. **Output**: Should output a pairwise distance matrix. If there are $n$ graphs in the input list, the output should be an $n \\times n$ matrix where the entry at position $(i, j)$ represents the distance between the $i^{th}$ and $j^{th}$ graph."
   ]
  },
  {
   "cell_type": "code",
   "execution_count": 3,
   "metadata": {},
   "outputs": [
    {
     "name": "stdout",
     "output_type": "stream",
     "text": [
      "graph 1: \n",
      " [[0 1 1]\n",
      " [1 0 0]\n",
      " [1 0 0]]\n",
      "graph 2: \n",
      " [[0 1 0]\n",
      " [1 0 1]\n",
      " [0 1 0]]\n",
      "graph 3: \n",
      " [[0 0 1]\n",
      " [0 0 1]\n",
      " [1 1 0]]\n",
      "dis: \n",
      " [[0 2 2]\n",
      " [2 0 2]\n",
      " [2 2 0]]\n"
     ]
    }
   ],
   "source": [
    "import numpy as np \n",
    "\n",
    "# Calculate customized pairwise distances between graphs. \n",
    "# Input: \n",
    "#   a list of 2D adjacency matrices\n",
    "# Output:\n",
    "#   a pairwise distance matrix\n",
    "def dis(adjacency_matrices):\n",
    "    n = len(adjacency_matrices)\n",
    "    res = np.full((n,n), -1)\n",
    "\n",
    "    for i in range(n):\n",
    "        for j in range(n):\n",
    "            mat_i = adjacency_matrices[i]\n",
    "            mat_j = adjacency_matrices[j]\n",
    "            res[i][j] = np.sum(np.abs(mat_i - mat_j)) / 2\n",
    "\n",
    "    return res\n",
    "\n",
    "# Test (assuming they are undirected and unweighted graphs)\n",
    "m1 = np.array([[0, 1, 1], [1, 0, 0], [1, 0, 0]])\n",
    "m2 = np.array([[0, 1, 0], [1, 0, 1], [0, 1, 0]])\n",
    "m3 = np.array([[0, 0, 1], [0, 0, 1], [1, 1, 0]])\n",
    "print(\"graph 1: \\n\", m1)\n",
    "print(\"graph 2: \\n\", m2)\n",
    "print(\"graph 3: \\n\", m3)\n",
    "print(\"dis: \\n\", dis([m1, m2, m3]))\n"
   ]
  }
 ],
 "metadata": {
  "kernelspec": {
   "display_name": "Python 3",
   "language": "python",
   "name": "python3"
  },
  "language_info": {
   "codemirror_mode": {
    "name": "ipython",
    "version": 3
   },
   "file_extension": ".py",
   "mimetype": "text/x-python",
   "name": "python",
   "nbconvert_exporter": "python",
   "pygments_lexer": "ipython3",
   "version": "3.9.18"
  },
  "orig_nbformat": 4,
  "vscode": {
   "interpreter": {
    "hash": "76ca05dc3ea24b2e3b98cdb7774adfbb40773424bf5109b477fd793f623715af"
   }
  }
 },
 "nbformat": 4,
 "nbformat_minor": 2
}
