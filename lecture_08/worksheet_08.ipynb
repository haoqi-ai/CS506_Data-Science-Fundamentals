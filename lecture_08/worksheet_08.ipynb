{
 "cells": [
  {
   "attachments": {},
   "cell_type": "markdown",
   "metadata": {},
   "source": [
    "# Worksheet 08\n",
    "\n",
    "Name:  Hao Qi  \n",
    "UID:  U96305250  \n",
    "\n",
    "### Topics\n",
    "\n",
    "- Soft Clustering\n",
    "- (optional) Clustering Aggregation\n",
    "\n",
    "### Probability Review\n",
    "\n",
    "Read through [the following material](https://medium.com/@gallettilance/overview-of-probability-3272b72c82c8).\n",
    "\n",
    "### Soft Clustering\n",
    "\n",
    "We generate 10 data points that come from a normal distribution with mean 5 and variance 1."
   ]
  },
  {
   "cell_type": "code",
   "execution_count": 1,
   "metadata": {},
   "outputs": [
    {
     "name": "stdout",
     "output_type": "stream",
     "text": [
      "[3.426919766209902, 4.5473247310663325, 4.9276809346223285, 5.917724818537847, 5.504288309037737, 4.420727344214572, 5.364293556890076, 4.896385598409866, 5.131422926973593, 6.355050465655652]\n"
     ]
    }
   ],
   "source": [
    "import random\n",
    "import numpy as np\n",
    "from sklearn.cluster import KMeans\n",
    "\n",
    "mean = 5\n",
    "stdev = 1\n",
    "\n",
    "s1 = np.random.normal(mean, stdev, 10).tolist()\n",
    "print(s1)"
   ]
  },
  {
   "cell_type": "markdown",
   "metadata": {},
   "source": [
    "a) Generate 10 more data points, this time coming from a normal distribution with mean 8 and variance 1."
   ]
  },
  {
   "cell_type": "code",
   "execution_count": 2,
   "metadata": {},
   "outputs": [
    {
     "name": "stdout",
     "output_type": "stream",
     "text": [
      "[7.513094345554559, 8.550914438792216, 7.014739087852444, 8.769019964132038, 9.375229374244553, 7.546633933499634, 8.05723466048525, 7.908885540921297, 7.269672175743532, 8.668387866911555]\n"
     ]
    }
   ],
   "source": [
    "s2 = np.random.normal(8, 1, 10).tolist()\n",
    "print(s2)"
   ]
  },
  {
   "attachments": {},
   "cell_type": "markdown",
   "metadata": {},
   "source": [
    "b) Flip a fair coin 10 times. If the coin lands on H, pick the last data point of `s1` and remove it from `s1`; if T pick the last data point from `s2` and remove it from `s2`. Add these 10 points to a list called `data`."
   ]
  },
  {
   "cell_type": "code",
   "execution_count": 3,
   "metadata": {},
   "outputs": [
    {
     "name": "stdout",
     "output_type": "stream",
     "text": [
      "[6.355050465655652, 5.131422926973593, 4.896385598409866, 8.668387866911555, 5.364293556890076, 7.269672175743532, 7.908885540921297, 4.420727344214572, 8.05723466048525, 7.546633933499634]\n"
     ]
    }
   ],
   "source": [
    "data = []\n",
    "for i in range(10):\n",
    "    # flip a coin\n",
    "    coin_output = random.choice([0, 1])\n",
    "    if coin_output == 0:\n",
    "        p1 = s1.pop()\n",
    "        data.append(p1)\n",
    "    else:\n",
    "        p2 = s2.pop()\n",
    "        data.append(p2)\n",
    "print(data)"
   ]
  },
  {
   "cell_type": "markdown",
   "metadata": {},
   "source": [
    "c) `data` has a Gaussian Mixture Distribution with 2 mixture components. Over the next few questions we will walk through the GMM algorithm to see if we can uncover the parameters we used to generate this data. First, please list all these parameters of the GMM that created `data` and the values we know they have."
   ]
  },
  {
   "cell_type": "markdown",
   "metadata": {},
   "source": [
    "- Number of mixture components (Gaussian distributions): 2\n",
    "- Info of Gaussian distribution I: mean=5, variance=1\n",
    "- Info of Gaussian distribution II: mean=8, variance=1\n",
    "- Expected proportion of mixture components: P(s1)=0.5, P(s2)=0.5"
   ]
  },
  {
   "cell_type": "markdown",
   "metadata": {},
   "source": [
    "d) Let's assume there are two mixture components (note: we could plot the data and make the observation that there are two clusters). The EM algorithm asks us to start with a random `mean_j`, `variance_j`, `P(S_j)` for each component j. One method we could use to find sensible values for these is to apply K means with k=2 here.\n",
    "\n",
    "1. the centroids would be the estimates of `mean_j`\n",
    "2. the intra-cluster variance could be the estimate of `variance_j`\n",
    "3. the proportion of points in each cluster could be the estimate of `P(S_j)`\n",
    "\n",
    "Go through this process and list the parameter estimates it gives. Are they close or far from the actual values?"
   ]
  },
  {
   "cell_type": "code",
   "execution_count": 4,
   "metadata": {},
   "outputs": [
    {
     "name": "stdout",
     "output_type": "stream",
     "text": [
      "[8.668387866911555, 7.269672175743532, 7.908885540921297, 8.05723466048525, 7.546633933499634]\n",
      "[6.355050465655652, 5.131422926973593, 4.896385598409866, 5.364293556890076, 4.420727344214572]\n",
      "P(S_1) = 0.5,  P(S_2) = 0.5\n",
      "mean_1 = 7.890162835512254,  mean_2 = 5.233575978428751\n",
      "var_1 = 0.227383699854461,  var_2 = 0.4119295222524741\n"
     ]
    },
    {
     "name": "stderr",
     "output_type": "stream",
     "text": [
      "/Users/paul/anaconda3/envs/msai/lib/python3.9/site-packages/sklearn/cluster/_kmeans.py:1412: FutureWarning: The default value of `n_init` will change from 10 to 'auto' in 1.4. Set the value of `n_init` explicitly to suppress the warning\n",
      "  super()._check_params_vs_input(X, default_n_init=10)\n"
     ]
    }
   ],
   "source": [
    "kmeans = KMeans(2, init='k-means++').fit(X=np.array(data).reshape(-1, 1))\n",
    "\n",
    "s1 = [x[0] for x in filter(lambda x: x[1] == 0, zip(data, kmeans.labels_))] # ??? a bit arbitrary\n",
    "print(s1)\n",
    "s2 = [x[0] for x in filter(lambda x: x[1] == 1, zip(data, kmeans.labels_))]\n",
    "print(s2)\n",
    "\n",
    "prob_s = [len(s1) / (len(s1) + len(s2)), len(s2) / (len(s1) + len(s2))]\n",
    "mean = [sum(s1) / len(s1), sum(s2) / len(s2)]\n",
    "var = [sum(map(lambda x : (x - mean[0])**2, s1)) / len(s1), sum(map(lambda x : (x - mean[1])**2, s2)) / len(s2)]\n",
    "\n",
    "print(\"P(S_1) = \" + str(prob_s[0]) + \",  P(S_2) = \" + str(prob_s[1]))\n",
    "print(\"mean_1 = \" + str(mean[0]) + \",  mean_2 = \" + str(mean[1]))\n",
    "print(\"var_1 = \" + str(var[0]) + \",  var_2 = \" + str(var[1]))"
   ]
  },
  {
   "cell_type": "markdown",
   "metadata": {},
   "source": [
    "- We predetermined the number of clusters to be 2, consistent with the number of mixture components.  \n",
    "- `mean_1` = 7.89; we speculate this is the initialization information for the distribution with the larger mean among the two Gaussian distributions. Therefore, this value is close to the actual value of 8.  \n",
    "- `mean_2` = 5.23; this value is relatively far from the actual value of 5.  \n",
    "- `var_1` = 0.23; the estimated variance for the first cluster is much smaller than 1. `var_2` = 0.41; the estimated variance for the second cluster is also lower than the actual value of 1. \n",
    "- The proportions of the two clusters (`P(S_1)`, `P(S_2)`) meet our expectations.  "
   ]
  },
  {
   "cell_type": "markdown",
   "metadata": {},
   "source": [
    "e) For each data point, compute `P(S_j | X_i)`. Comment on which cluster you think each point belongs to based on the estimated probabilities. How does that compare to the truth? "
   ]
  },
  {
   "cell_type": "code",
   "execution_count": 5,
   "metadata": {},
   "outputs": [
    {
     "name": "stdout",
     "output_type": "stream",
     "text": [
      "point =  6.355050465655652\n",
      "probability of observing that point if it came from cluster 0 =  0.004699476825339877\n",
      "probability of observing that point if it came from cluster 1 =  0.13505283259199924\n",
      "point =  5.131422926973593\n",
      "probability of observing that point if it came from cluster 0 =  4.513400838277542e-08\n",
      "probability of observing that point if it came from cluster 1 =  0.6137587582256289\n",
      "point =  4.896385598409866\n",
      "probability of observing that point if it came from cluster 0 =  2.308421461336597e-09\n",
      "probability of observing that point if it came from cluster 1 =  0.5414563305092014\n",
      "point =  8.668387866911555\n",
      "probability of observing that point if it came from cluster 0 =  0.2208822956650832\n",
      "probability of observing that point if it came from cluster 1 =  3.7519640456333065e-07\n",
      "point =  5.364293556890076\n",
      "probability of observing that point if it came from cluster 0 =  6.756676460351857e-07\n",
      "probability of observing that point if it came from cluster 1 =  0.608823220497502\n",
      "point =  7.269672175743532\n",
      "probability of observing that point if it came from cluster 0 =  0.35880148419417146\n",
      "probability of observing that point if it came from cluster 1 =  0.004056145074239669\n",
      "point =  7.908885540921297\n",
      "probability of observing that point if it came from cluster 0 =  0.835979528362655\n",
      "probability of observing that point if it came from cluster 1 =  0.00010484850311297169\n",
      "point =  4.420727344214572\n",
      "probability of observing that point if it came from cluster 0 =  2.675678472421918e-12\n",
      "probability of observing that point if it came from cluster 1 =  0.2787409559779767\n",
      "point =  8.05723466048525\n",
      "probability of observing that point if it came from cluster 0 =  0.7868174917046094\n",
      "probability of observing that point if it came from cluster 1 =  3.8952325874083125e-05\n",
      "point =  7.546633933499634\n",
      "probability of observing that point if it came from cluster 0 =  0.6454030531653276\n",
      "probability of observing that point if it came from cluster 1 =  0.0009400249661870599\n",
      "6.355050465655652\n",
      "Probability of coming from S_1 = 0.03362718544640244\n",
      "Probability of coming from S_2 = 0.9663728145535975\n",
      "\n",
      "5.131422926973593\n",
      "Probability of coming from S_1 = 7.353704441503344e-08\n",
      "Probability of coming from S_2 = 0.9999999264629555\n",
      "\n",
      "4.896385598409866\n",
      "Probability of coming from S_1 = 4.263356657634912e-09\n",
      "Probability of coming from S_2 = 0.9999999957366433\n",
      "\n",
      "8.668387866911555\n",
      "Probability of coming from S_1 = 0.9999983013769116\n",
      "Probability of coming from S_2 = 1.6986230884477613e-06\n",
      "\n",
      "5.364293556890076\n",
      "Probability of coming from S_1 = 1.1097916003150865e-06\n",
      "Probability of coming from S_2 = 0.9999988902083996\n",
      "\n",
      "7.269672175743532\n",
      "Probability of coming from S_1 = 0.9888216624177983\n",
      "Probability of coming from S_2 = 0.011178337582201636\n",
      "\n",
      "7.908885540921297\n",
      "Probability of coming from S_1 = 0.9998745957872027\n",
      "Probability of coming from S_2 = 0.00012540421279729874\n",
      "\n",
      "4.420727344214572\n",
      "Probability of coming from S_1 = 9.59915798167686e-12\n",
      "Probability of coming from S_2 = 0.9999999999904008\n",
      "\n",
      "8.05723466048525\n",
      "Probability of coming from S_1 = 0.9999504962739143\n",
      "Probability of coming from S_2 = 4.950372608573831e-05\n",
      "\n",
      "7.546633933499634\n",
      "Probability of coming from S_1 = 0.9985456253838062\n",
      "Probability of coming from S_2 = 0.0014543746161938293\n",
      "\n"
     ]
    }
   ],
   "source": [
    "from scipy.stats import norm\n",
    "\n",
    "prob_s0_x = [] # P(S_0 | X_i)\n",
    "prob_s1_x = [] # P(S_1 | X_i)\n",
    "prob_x = [] # P(X_i)\n",
    "\n",
    "k = 2\n",
    "\n",
    "for p in data:\n",
    "    print(\"point = \", p)\n",
    "    pdf_i = []\n",
    "\n",
    "    for j in range(k):\n",
    "        # P(X_i | S_j)\n",
    "        # pdf_i.append(norm.pdf(p, mean[j], var[j])) \n",
    "        pdf_i.append(norm.pdf(p, mean[j], var[j]**0.5)) \n",
    "        print(\"probability of observing that point if it came from cluster \" + str(j) + \" = \", pdf_i[j])\n",
    "        # P(S_j) already computed\n",
    "        prob_s[j]\n",
    "\n",
    "    # P(X_i) = P(S_0)P(X_i | S_0) + P(S_1)P(X_i | S_1)\n",
    "    prob_x = prob_s[0] * pdf_i[0] + prob_s[1] * pdf_i[1]\n",
    "\n",
    "    # P(S_j | X_i) = P(X_i | S_j)P(S_j) / P(X_i)\n",
    "    prob_s0_x.append(pdf_i[0]*prob_s[0] / prob_x)\n",
    "    prob_s1_x.append(pdf_i[1]*prob_s[1] / prob_x)\n",
    "\n",
    "probs = zip(data, prob_s0_x, prob_s1_x)\n",
    "for p in probs:\n",
    "    print(p[0])\n",
    "    print(\"Probability of coming from S_1 = \" + str(p[1]))\n",
    "    print(\"Probability of coming from S_2 = \" + str(p[2]))\n",
    "    print()\n"
   ]
  },
  {
   "cell_type": "code",
   "execution_count": 6,
   "metadata": {},
   "outputs": [
    {
     "name": "stdout",
     "output_type": "stream",
     "text": [
      "[2, 2, 2, 1, 2, 1, 1, 2, 1, 1]\n",
      "[2, 2, 2, 1, 2, 1, 1, 2, 1, 1]\n"
     ]
    }
   ],
   "source": [
    "truth = []\n",
    "for p in data:\n",
    "    if p in s1:\n",
    "        truth.append(1)\n",
    "    elif p in s2:\n",
    "        truth.append(2)\n",
    "    else:\n",
    "        print(\"ERROR\")\n",
    "print(truth)\n",
    "\n",
    "probs = zip(data, prob_s0_x, prob_s1_x)\n",
    "prediction = []\n",
    "for p in probs:\n",
    "    if p[1] > p[2]:\n",
    "        prediction.append(1)    # the distribution with a lager mean value\n",
    "    else:\n",
    "        prediction.append(2)\n",
    "print(prediction)"
   ]
  },
  {
   "cell_type": "markdown",
   "metadata": {},
   "source": [
    "The calculated probabilities have effectively suggested each data point's probable cluster allocation, generally matching the actual cluster from the original data creation process. I will assign each point to the cluster with a higher probability. Our allocation is now consistent with the truth from the results above. To enhance the credibility of this experiment, we may add more data points and repeat the process with different random seeds for sampling. "
   ]
  },
  {
   "cell_type": "markdown",
   "metadata": {},
   "source": [
    "f) Having computed `P(S_j | X_i)`, update the estimates of `mean_j`, `var_j` and `P(S_j)`. How different are these values from the original ones you got from K means? Briefly comment."
   ]
  },
  {
   "cell_type": "code",
   "execution_count": 7,
   "metadata": {},
   "outputs": [
    {
     "name": "stdout",
     "output_type": "stream",
     "text": [
      "P(S_1) = 0.5,  P(S_2) = 0.5\n",
      "mean_1 = 7.881359332849096,  mean_2 = 5.2313453239892205\n",
      "var_1 = 0.24125625994090955,  var_2 = 0.4162863717952426\n"
     ]
    }
   ],
   "source": [
    "prob_c = [sum(prob_s0_x)/len(prob_s0_x), sum(prob_s1_x)/len(prob_s1_x)]\n",
    "mean = [sum([x[0] * x[1] for x in zip(prob_s0_x, data)]) / sum(prob_s0_x), sum([x[0] * x[1] for x in zip(prob_s1_x, data)]) / sum(prob_s1_x)]\n",
    "var = [sum([x[0] * (x[1] - mean[0])**2 for x in zip(prob_s0_x, data)]) / sum(prob_s0_x), sum([x[0] * (x[1] - mean[1])**2 for x in zip(prob_s1_x, data)]) / sum(prob_s1_x)]\n",
    "\n",
    "print(\"P(S_1) = \" + str(prob_s[0]) + \",  P(S_2) = \" + str(prob_s[1]))\n",
    "print(\"mean_1 = \" + str(mean[0]) + \",  mean_2 = \" + str(mean[1]))\n",
    "print(\"var_1 = \" + str(var[0]) + \",  var_2 = \" + str(var[1]))"
   ]
  },
  {
   "cell_type": "markdown",
   "metadata": {},
   "source": [
    "- The proportions of the two clusters (`P(S_1)`, `P(S_2)`) stay unchanged.  \n",
    "- `mean_1` is slightly lower but the change is not obvious. The fluctuation of `mean_2` is even smaller. \n",
    "- Both `var_1` and `var_2` are a little larger. I guess the numbers randomly selected this time are relatively concentrated and centered around these two mean values. "
   ]
  },
  {
   "cell_type": "markdown",
   "metadata": {},
   "source": [
    "g) Update `P(S_j | X_i)`. Comment on any differences or lack thereof you observe."
   ]
  },
  {
   "cell_type": "code",
   "execution_count": 8,
   "metadata": {},
   "outputs": [
    {
     "name": "stdout",
     "output_type": "stream",
     "text": [
      "point =  6.355050465655652\n",
      "probability of observing that point if it came from cluster 0 =  3.3665615441419434e-09\n",
      "probability of observing that point if it came from cluster 1 =  0.025076647386591915\n",
      "point =  5.131422926973593\n",
      "probability of observing that point if it came from cluster 0 =  1.013620578554398e-28\n",
      "probability of observing that point if it came from cluster 1 =  0.9311223879397578\n",
      "point =  4.896385598409866\n",
      "probability of observing that point if it came from cluster 0 =  9.486785367585139e-34\n",
      "probability of observing that point if it came from cluster 1 =  0.6933102990281881\n",
      "point =  8.668387866911555\n",
      "probability of observing that point if it came from cluster 0 =  0.008082538278978958\n",
      "probability of observing that point if it came from cluster 1 =  1.5095883653626116e-15\n",
      "point =  5.364293556890076\n",
      "probability of observing that point if it came from cluster 0 =  3.817359302523639e-24\n",
      "probability of observing that point if it came from cluster 1 =  0.9106884829079049\n",
      "point =  7.269672175743532\n",
      "probability of observing that point if it came from cluster 0 =  0.06645482058099082\n",
      "probability of observing that point if it came from cluster 1 =  5.961520526075502e-06\n",
      "point =  7.908885540921297\n",
      "probability of observing that point if it came from cluster 0 =  1.642875709898329\n",
      "probability of observing that point if it came from cluster 1 =  9.956188763720385e-10\n",
      "point =  4.420727344214572\n",
      "probability of observing that point if it came from cluster 0 =  3.459122277970702e-45\n",
      "probability of observing that point if it came from cluster 1 =  0.14392423488251427\n",
      "point =  8.05723466048525\n",
      "probability of observing that point if it came from cluster 0 =  1.267742837709084\n",
      "probability of observing that point if it came from cluster 1 =  9.441983849090246e-11\n",
      "point =  7.546633933499634\n",
      "probability of observing that point if it came from cluster 0 =  0.6315870521419424\n",
      "probability of observing that point if it came from cluster 1 =  1.8384119944618418e-07\n",
      "6.355050465655652\n",
      "Probability of coming from S_1 = 1.342508446315778e-07\n",
      "Probability of coming from S_2 = 0.9999998657491554\n",
      "\n",
      "5.131422926973593\n",
      "Probability of coming from S_1 = 1.0886008023039587e-28\n",
      "Probability of coming from S_2 = 1.0\n",
      "\n",
      "4.896385598409866\n",
      "Probability of coming from S_1 = 1.368331810573527e-33\n",
      "Probability of coming from S_2 = 1.0\n",
      "\n",
      "8.668387866911555\n",
      "Probability of coming from S_1 = 0.9999999999998133\n",
      "Probability of coming from S_2 = 1.8677157017473863e-13\n",
      "\n",
      "5.364293556890076\n",
      "Probability of coming from S_1 = 4.191728976668827e-24\n",
      "Probability of coming from S_2 = 1.0\n",
      "\n",
      "7.269672175743532\n",
      "Probability of coming from S_1 = 0.9999103001749667\n",
      "Probability of coming from S_2 = 8.969982503319707e-05\n",
      "\n",
      "7.908885540921297\n",
      "Probability of coming from S_1 = 0.999999999393978\n",
      "Probability of coming from S_2 = 6.060220318372632e-10\n",
      "\n",
      "4.420727344214572\n",
      "Probability of coming from S_1 = 2.403432806708608e-44\n",
      "Probability of coming from S_2 = 1.0\n",
      "\n",
      "8.05723466048525\n",
      "Probability of coming from S_1 = 0.9999999999255214\n",
      "Probability of coming from S_2 = 7.447869999762305e-11\n",
      "\n",
      "7.546633933499634\n",
      "Probability of coming from S_1 = 0.9999997089219208\n",
      "Probability of coming from S_2 = 2.9107807911921004e-07\n",
      "\n"
     ]
    }
   ],
   "source": [
    "prob_s0_x = [] # P(S_0 | X_i)\n",
    "prob_s1_x = [] # P(S_1 | X_i)\n",
    "prob_x = [] # P(X_i)\n",
    "\n",
    "k = 2\n",
    "\n",
    "for p in data:\n",
    "    print(\"point = \", p)\n",
    "    pdf_i = []\n",
    "\n",
    "    for j in range(k):\n",
    "        # P(X_i | S_j)\n",
    "        # pdf_i.append(norm.pdf(p, mean[j], var[j]))\n",
    "        pdf_i.append(norm.pdf(p, mean[j], var[j]**0.5))\n",
    "        print(\"probability of observing that point if it came from cluster \" + str(j) + \" = \", pdf_i[j])\n",
    "        # P(S_j) already computed\n",
    "        prob_s[j]\n",
    "\n",
    "    # P(X_i) = P(S_0)P(X_i | S_0) + P(S_1)P(X_i | S_1)\n",
    "    prob_x = prob_s[0] * pdf_i[0] + prob_s[1] * pdf_i[1]\n",
    "\n",
    "    # P(S_j | X_i) = P(X_i | S_j)P(S_j) / P(X_i)\n",
    "    prob_s0_x.append(pdf_i[0]*prob_s[0] / prob_x)\n",
    "    prob_s1_x.append(pdf_i[1]*prob_s[1] / prob_x)\n",
    "\n",
    "probs = zip(data, prob_s0_x, prob_s1_x)\n",
    "for p in probs:\n",
    "    print(p[0])\n",
    "    print(\"Probability of coming from S_1 = \" + str(p[1]))\n",
    "    print(\"Probability of coming from S_2 = \" + str(p[2]))\n",
    "    print()\n"
   ]
  },
  {
   "cell_type": "code",
   "execution_count": 9,
   "metadata": {},
   "outputs": [
    {
     "name": "stdout",
     "output_type": "stream",
     "text": [
      "[2, 2, 2, 1, 2, 1, 1, 2, 1, 1]\n",
      "[2, 2, 2, 1, 2, 1, 1, 2, 1, 1]\n"
     ]
    }
   ],
   "source": [
    "truth = []\n",
    "for p in data:\n",
    "    if p in s1:\n",
    "        truth.append(1)\n",
    "    elif p in s2:\n",
    "        truth.append(2)\n",
    "    else:\n",
    "        print(\"ERROR\")\n",
    "print(truth)\n",
    "\n",
    "probs = zip(data, prob_s0_x, prob_s1_x)\n",
    "prediction = []\n",
    "for p in probs:\n",
    "    if p[1] > p[2]:\n",
    "        prediction.append(1)    # the distribution with a lager mean value\n",
    "    else:\n",
    "        prediction.append(2)\n",
    "print(prediction)"
   ]
  },
  {
   "cell_type": "markdown",
   "metadata": {},
   "source": [
    "Our allocation is still consistent with the truth. But each data point now holds a probability of 0.99 or 1 for cluster membership, showing strong certainty. This illustrates the adaptive aspect of this clustering algorithm, which fine-tunes predictions with the given data, despite the tiny change here. "
   ]
  },
  {
   "cell_type": "markdown",
   "metadata": {},
   "source": [
    "h) Use `P(S_j | X_i)` to create a hard assignment - label each point as belonging to a specific cluster (0 or 1)"
   ]
  },
  {
   "cell_type": "code",
   "execution_count": 15,
   "metadata": {},
   "outputs": [
    {
     "name": "stdout",
     "output_type": "stream",
     "text": [
      "[[6.355050465655652, 1], [5.131422926973593, 1], [4.896385598409866, 1], [8.668387866911555, 0], [5.364293556890076, 1], [7.269672175743532, 0], [7.908885540921297, 0], [4.420727344214572, 1], [8.05723466048525, 0], [7.546633933499634, 0]]\n"
     ]
    }
   ],
   "source": [
    "probs = zip(data, prob_s0_x, prob_s1_x)\n",
    "assignment = zip(data, [0 if p[1] > p[2] else 1 for p in probs])\n",
    "print([[p, i] for p, i in assignment])"
   ]
  }
 ],
 "metadata": {
  "kernelspec": {
   "display_name": "Python 3",
   "language": "python",
   "name": "python3"
  },
  "language_info": {
   "codemirror_mode": {
    "name": "ipython",
    "version": 3
   },
   "file_extension": ".py",
   "mimetype": "text/x-python",
   "name": "python",
   "nbconvert_exporter": "python",
   "pygments_lexer": "ipython3",
   "version": "3.9.18"
  },
  "orig_nbformat": 4,
  "vscode": {
   "interpreter": {
    "hash": "e7370f93d1d0cde622a1f8e1c04877d8463912d04d973331ad4851f04de6915a"
   }
  }
 },
 "nbformat": 4,
 "nbformat_minor": 2
}
