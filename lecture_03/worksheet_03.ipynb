{
 "cells": [
  {
   "attachments": {},
   "cell_type": "markdown",
   "metadata": {},
   "source": [
    "# Worksheet 03\n",
    "\n",
    "Name:  Hao Qi  \n",
    "UID:  U96305250 \n",
    "\n",
    "### Topics\n",
    "\n",
    "- Intro to DS\n",
    "\n",
    "### Linear Algebra Review\n",
    "\n",
    "If you need a linear algebra review, please read through the [following pdf file](https://github.com/gallettilance/CS506-Spring2023/raw/main/worksheets/lecture_03_linear_algebra_review.pdf) before the next class. \n",
    "\n",
    "### Intro to Data Science\n",
    "\n",
    "a) What property must a hypothesis have?"
   ]
  },
  {
   "cell_type": "markdown",
   "metadata": {},
   "source": [
    "A hypothesis should be testable and falsifiable. This means conducting experiments or observations that could potentially prove the hypothesis is correct or wrong must be possible. It should also be clear and specific. This means that providing an explicit description to aid in investigations and predictions is essential. It also involves logical reasoning. "
   ]
  },
  {
   "cell_type": "markdown",
   "metadata": {},
   "source": [
    "b) What examples would you have wanted to try?"
   ]
  },
  {
   "cell_type": "markdown",
   "metadata": {},
   "source": [
    "(3, 6, 9) since I want to know if it is okay to have a common difference of 3 (instead of 2)."
   ]
  },
  {
   "cell_type": "markdown",
   "metadata": {},
   "source": [
    "c) Poll 1"
   ]
  },
  {
   "cell_type": "markdown",
   "metadata": {},
   "source": [
    "C"
   ]
  },
  {
   "cell_type": "markdown",
   "metadata": {},
   "source": [
    "d) Given the hypothesis (x, 2x, 3x), for each of the following, determine whether they are positive or negative examples:\n",
    "\n",
    "- (2, 4, 6)\n",
    "- (6, 8, 10)\n",
    "- (1, 3, 5)"
   ]
  },
  {
   "cell_type": "markdown",
   "metadata": {},
   "source": [
    "- (2, 4, 6): positive, following the pattern exactly  \n",
    "- (6, 8, 10): negative, since 8 != 2*6  \n",
    "- (1, 3, 5): negative, since 3 != 2*1  "
   ]
  },
  {
   "cell_type": "markdown",
   "metadata": {},
   "source": [
    "e) Poll 2"
   ]
  },
  {
   "cell_type": "markdown",
   "metadata": {},
   "source": [
    "C"
   ]
  },
  {
   "attachments": {},
   "cell_type": "markdown",
   "metadata": {},
   "source": [
    "f) Describe the steps of a Data Science Workflow."
   ]
  },
  {
   "cell_type": "markdown",
   "metadata": {},
   "source": [
    "1. Define the problem\n",
    "    - identify and understand the problem to be solved\n",
    "\n",
    "2. Process data\n",
    "    - gather the necessary data from various sources\n",
    "    - clean the data to remove inconsistencies and errors\n",
    "    - make assumptions with the transformations\n",
    "\n",
    "3. Explore data\n",
    "    - describe, contextualize and visualize the data\n",
    "    - check the imbalances in the data\n",
    "    - analyze the data to find patterns and insights\n",
    "\n",
    "4. Extract features\n",
    "    - create or find the most relevant features for the problem\n",
    "    - transform the features if needed\n",
    "\n",
    "5. Create a model\n",
    "    - develop and train a statistical or machine learning model based on the previous steps\n",
    "    - ensure the interpretability of the model\n",
    "    - clarify the operation logic to ensure smooth debugging\n",
    "\n",
    "6. Evaluate the workflow\n",
    "    - assess the model's performance\n",
    "    - make adjustments to each step"
   ]
  },
  {
   "attachments": {},
   "cell_type": "markdown",
   "metadata": {},
   "source": [
    "g) Give a real-world example for each of the following data types: \n",
    "\n",
    "- record\n",
    "- graph\n",
    "- image\n",
    "- text"
   ]
  },
  {
   "cell_type": "markdown",
   "metadata": {},
   "source": [
    "- record \n",
    "\n",
    "A student's academic history, where each record contains his/her ID, name and credits. \n",
    "\n",
    "- graph \n",
    "\n",
    "A network of connections in a social media platform, where users are nodes, and their “following” behaviors are edges. \n",
    "\n",
    "- image \n",
    "\n",
    "A brain MRI picture.\n",
    "\n",
    "- text\n",
    "\n",
    "A product review on a shopping website, including descriptions, opinions and ratings. "
   ]
  },
  {
   "attachments": {},
   "cell_type": "markdown",
   "metadata": {},
   "source": [
    "h) Give a real-world example of unsupervised learning. "
   ]
  },
  {
   "cell_type": "markdown",
   "metadata": {},
   "source": [
    "Classify several kinds of flowers according to the lengths and widths of petals and calyxes. "
   ]
  },
  {
   "attachments": {},
   "cell_type": "markdown",
   "metadata": {},
   "source": [
    "i) Give a real world example of supervised learning"
   ]
  },
  {
   "cell_type": "markdown",
   "metadata": {},
   "source": [
    "Predict the average temperature of tomorrow based on the daily highest, lowest and average temperatures over the past three years. "
   ]
  }
 ],
 "metadata": {
  "kernelspec": {
   "display_name": "Python 3",
   "language": "python",
   "name": "python3"
  },
  "language_info": {
   "codemirror_mode": {
    "name": "ipython",
    "version": 3
   },
   "file_extension": ".py",
   "mimetype": "text/x-python",
   "name": "python",
   "nbconvert_exporter": "python",
   "pygments_lexer": "ipython3",
   "version": "3.11.1"
  },
  "orig_nbformat": 4,
  "vscode": {
   "interpreter": {
    "hash": "e7370f93d1d0cde622a1f8e1c04877d8463912d04d973331ad4851f04de6915a"
   }
  }
 },
 "nbformat": 4,
 "nbformat_minor": 2
}
